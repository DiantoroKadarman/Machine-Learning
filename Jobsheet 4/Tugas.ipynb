{
  "nbformat": 4,
  "nbformat_minor": 0,
  "metadata": {
    "colab": {
      "provenance": [],
      "authorship_tag": "ABX9TyMhY/IwXaLesHeIq+QudDlN",
      "include_colab_link": true
    },
    "kernelspec": {
      "name": "python3",
      "display_name": "Python 3"
    },
    "language_info": {
      "name": "python"
    }
  },
  "cells": [
    {
      "cell_type": "markdown",
      "metadata": {
        "id": "view-in-github",
        "colab_type": "text"
      },
      "source": [
        "<a href=\"https://colab.research.google.com/github/DiantoroKadarman/Machine-Learning/blob/main/Jobsheet%204/Tugas.ipynb\" target=\"_parent\"><img src=\"https://colab.research.google.com/assets/colab-badge.svg\" alt=\"Open In Colab\"/></a>"
      ]
    },
    {
      "cell_type": "markdown",
      "source": [
        "\n",
        "# TUGAS 1"
      ],
      "metadata": {
        "id": "iyOh8m9PRwBr"
      }
    },
    {
      "cell_type": "markdown",
      "source": [
        "1.Buatlah model klasifikasi dengan menggunakan SVM untuk data suara, voice.csv."
      ],
      "metadata": {
        "id": "_-QOU27IR8mE"
      }
    },
    {
      "cell_type": "code",
      "source": [
        "# Mount drive\n",
        "from google.colab import drive\n",
        "drive.mount('/content/drive')"
      ],
      "metadata": {
        "colab": {
          "base_uri": "https://localhost:8080/"
        },
        "id": "564WZK-aY_7k",
        "outputId": "9ad27f63-13b0-4e52-a641-deec77532fc1"
      },
      "execution_count": 11,
      "outputs": [
        {
          "output_type": "stream",
          "name": "stdout",
          "text": [
            "Drive already mounted at /content/drive; to attempt to forcibly remount, call drive.mount(\"/content/drive\", force_remount=True).\n"
          ]
        }
      ]
    },
    {
      "cell_type": "code",
      "source": [
        "import pandas as pd\n",
        "from sklearn.model_selection import train_test_split\n",
        "from sklearn.preprocessing import StandardScaler\n",
        "from sklearn.svm import SVC\n",
        "from sklearn.metrics import accuracy_score, classification_report\n",
        "\n",
        "# Membaca dataset\n",
        "voice_data = pd.read_csv('/content/drive/MyDrive/Machine Learning/voice.csv')\n",
        "\n",
        "# Memisahkan fitur dan target\n",
        "X_voice = voice_data.drop(columns=['label'])\n",
        "y_voice = voice_data['label']\n",
        "\n",
        "# Membagi data menjadi set pelatihan dan pengujian\n",
        "X_train_voice, X_test_voice, y_train_voice, y_test_voice = train_test_split(X_voice, y_voice, test_size=0.2, random_state=42)\n",
        "\n",
        "# Normalisasi data\n",
        "scaler_voice = StandardScaler()\n",
        "X_train_scaled = scaler_voice.fit_transform(X_train_voice)\n",
        "X_test_scaled = scaler_voice.transform(X_test_voice)\n",
        "\n",
        "# Melatih model SVM\n",
        "svm_classifier = SVC(kernel='linear')\n",
        "svm_classifier.fit(X_train_scaled, y_train_voice)\n",
        "\n",
        "# Melakukan prediksi\n",
        "y_pred_voice = svm_classifier.predict(X_test_scaled)\n",
        "\n",
        "# Evaluasi model\n",
        "print(classification_report(y_test_voice, y_pred_voice))\n",
        "print(f'Akurasi SVM: {accuracy_score(y_test_voice, y_pred_voice):.4f}')"
      ],
      "metadata": {
        "colab": {
          "base_uri": "https://localhost:8080/"
        },
        "id": "N6KfVJ8zR-UF",
        "outputId": "c55a377f-6cb5-4802-f48e-7a9b774f6df4"
      },
      "execution_count": 12,
      "outputs": [
        {
          "output_type": "stream",
          "name": "stdout",
          "text": [
            "              precision    recall  f1-score   support\n",
            "\n",
            "      female       0.96      0.99      0.98       297\n",
            "        male       0.99      0.97      0.98       337\n",
            "\n",
            "    accuracy                           0.98       634\n",
            "   macro avg       0.98      0.98      0.98       634\n",
            "weighted avg       0.98      0.98      0.98       634\n",
            "\n",
            "Akurasi SVM: 0.9763\n"
          ]
        }
      ]
    },
    {
      "cell_type": "markdown",
      "source": [
        "2.  Buatlah model klasfikasi Multinomial Naive Bayes dengan ketentuan,\n",
        "1. Menggunakan data spam.csv\n",
        "2. Fitur CountVectorizer dengan mengaktifkan stop_words\n",
        "3. Evaluasi hasilnya"
      ],
      "metadata": {
        "id": "4GCy5XUMVM-i"
      }
    },
    {
      "cell_type": "code",
      "source": [
        "from sklearn.feature_extraction.text import CountVectorizer\n",
        "from sklearn.naive_bayes import MultinomialNB\n",
        "from sklearn.metrics import accuracy_score, classification_report\n",
        "import pandas as pd\n",
        "\n",
        "# Membaca dataset spam\n",
        "spam_data = pd.read_csv('/content/drive/MyDrive/Machine Learning/spam.csv', encoding='latin-1')\n",
        "\n",
        "# Mengambil kolom yang relevan\n",
        "spam_data = spam_data[['v1', 'v2']]\n",
        "spam_data.columns = ['label', 'message']\n",
        "spam_data['label'] = spam_data['label'].map({'ham': 0, 'spam': 1})\n",
        "\n",
        "# Memisahkan fitur dan target\n",
        "X_spam = spam_data['message']\n",
        "y_spam = spam_data['label']\n",
        "\n",
        "# Split data menjadi training dan test set\n",
        "X_train_spam, X_test_spam, y_train_spam, y_test_spam = train_test_split(X_spam, y_spam, test_size=0.2, random_state=42)\n",
        "\n",
        "# Menggunakan CountVectorizer dengan stop_words\n",
        "count_vectorizer = CountVectorizer(stop_words='english')\n",
        "X_train_count = count_vectorizer.fit_transform(X_train_spam)\n",
        "X_test_count = count_vectorizer.transform(X_test_spam)\n",
        "\n",
        "# Melatih model Naive Bayes\n",
        "naive_bayes = MultinomialNB()\n",
        "naive_bayes.fit(X_train_count, y_train_spam)\n",
        "\n",
        "# Prediksi dan evaluasi model\n",
        "y_pred_count = naive_bayes.predict(X_test_count)\n",
        "print(classification_report(y_test_spam, y_pred_count))\n",
        "print(f'Akurasi dengan CountVectorizer: {accuracy_score(y_test_spam, y_pred_count):.4f}')"
      ],
      "metadata": {
        "colab": {
          "base_uri": "https://localhost:8080/"
        },
        "id": "cApS7hY2Vyk6",
        "outputId": "901e8d60-9ec7-43f7-a9b3-896a3cedc6c1"
      },
      "execution_count": 13,
      "outputs": [
        {
          "output_type": "stream",
          "name": "stdout",
          "text": [
            "              precision    recall  f1-score   support\n",
            "\n",
            "           0       0.99      0.99      0.99       965\n",
            "           1       0.96      0.92      0.94       150\n",
            "\n",
            "    accuracy                           0.98      1115\n",
            "   macro avg       0.97      0.96      0.96      1115\n",
            "weighted avg       0.98      0.98      0.98      1115\n",
            "\n",
            "Akurasi dengan CountVectorizer: 0.9839\n"
          ]
        }
      ]
    },
    {
      "cell_type": "markdown",
      "source": [
        "3.Buatlah model klasfikasi Multinomial Naive Bayes dengan ketentuan,\n",
        "\n",
        "1. Menggunakan data spam.csv\n",
        "2. Fitur TF-IDF dengan mengaktifkan stop_words\n",
        "3. Evaluasi hasilnya dan bandingkan dengan hasil pada Tugas no 2.\n",
        "4. Berikan kesimpulan fitur mana yang terbaik pada kasus data spam.csv"
      ],
      "metadata": {
        "id": "sQ9Fs4-ZWI3Y"
      }
    },
    {
      "cell_type": "code",
      "source": [
        "from sklearn.feature_extraction.text import TfidfVectorizer\n",
        "from sklearn.naive_bayes import MultinomialNB\n",
        "from sklearn.metrics import accuracy_score, classification_report\n",
        "\n",
        "# TF-IDF Vectorizer dengan stop_words\n",
        "tfidf_vectorizer_spam = TfidfVectorizer(stop_words='english')\n",
        "X_train_tfidf = tfidf_vectorizer_spam.fit_transform(X_train_spam)\n",
        "X_test_tfidf = tfidf_vectorizer_spam.transform(X_test_spam)\n",
        "\n",
        "# Model Naive Bayes dengan TF-IDF\n",
        "nb_tfidf_model = MultinomialNB()\n",
        "nb_tfidf_model.fit(X_train_tfidf, y_train_spam)\n",
        "\n",
        "# Prediksi dan evaluasi model\n",
        "y_pred_tfidf = nb_tfidf_model.predict(X_test_tfidf)\n",
        "print(classification_report(y_test_spam, y_pred_tfidf))\n",
        "print(f'Akurasi dengan TF-IDF: {accuracy_score(y_test_spam, y_pred_tfidf):.4f}')"
      ],
      "metadata": {
        "colab": {
          "base_uri": "https://localhost:8080/"
        },
        "id": "vCZiKCepWSHr",
        "outputId": "63e679f0-4913-4fa5-99fc-cc8e29430626"
      },
      "execution_count": 14,
      "outputs": [
        {
          "output_type": "stream",
          "name": "stdout",
          "text": [
            "              precision    recall  f1-score   support\n",
            "\n",
            "           0       0.96      1.00      0.98       965\n",
            "           1       1.00      0.75      0.86       150\n",
            "\n",
            "    accuracy                           0.97      1115\n",
            "   macro avg       0.98      0.88      0.92      1115\n",
            "weighted avg       0.97      0.97      0.96      1115\n",
            "\n",
            "Akurasi dengan TF-IDF: 0.9668\n"
          ]
        }
      ]
    },
    {
      "cell_type": "markdown",
      "source": [
        "CountVectorizer merupakan fitur yang lebih efektif dan dapat diandalkan dibandingkan dengan TF-IDF. Penggunaan CountVectorizer menunjukkan performa yang lebih baik TF-IDF. Model dengan CountVectorizer memiliki akurasi yang lebih tinggi dan lebih seimbang dalam mendeteksi pesan spam dan non-spam. Walaupun TF-IDF sedikit unggul dalam hal precision untuk pesan spam, CountVectorizer memiliki recall yang lebih baik, yang menunjukkan bahwa model ini lebih peka dalam mengidentifikasi pesan spam secara keseluruhan."
      ],
      "metadata": {
        "id": "vzmD6SL6WtXa"
      }
    },
    {
      "cell_type": "markdown",
      "source": [
        "# Tugas 2"
      ],
      "metadata": {
        "id": "NhXovyCBXCeU"
      }
    },
    {
      "cell_type": "markdown",
      "source": [
        "Buatlah model klasifikasi dengan menggunakan SVM berdasarkan data pada Percobaan 5 dengan menggunakan fitur histogram."
      ],
      "metadata": {
        "id": "PJnitvA5XQtt"
      }
    },
    {
      "cell_type": "code",
      "source": [
        "#Impor library\n",
        "import cv2\n",
        "import numpy as np\n",
        "import os\n",
        "from sklearn.svm import SVC\n",
        "from sklearn.metrics import accuracy_score, classification_report\n",
        "from sklearn.preprocessing import StandardScaler"
      ],
      "metadata": {
        "id": "TjO5bE2-XdSV"
      },
      "execution_count": 15,
      "outputs": []
    },
    {
      "cell_type": "code",
      "source": [
        "# Fungsi untuk ekstraksi histogram dari gambar\n",
        "def extract_histogram(image, bins=(8, 8, 8)):\n",
        "    hsv_image = cv2.cvtColor(image, cv2.COLOR_BGR2HSV)\n",
        "    hist = cv2.calcHist([hsv_image], [0, 1, 2], None, bins, [0, 180, 0, 256, 0, 256])\n",
        "    cv2.normalize(hist, hist)\n",
        "    return hist.flatten()\n",
        "\n",
        "# Fungsi untuk memuat gambar dan label dari folder\n",
        "def load_images_from_folder(folder):\n",
        "    data = []\n",
        "    labels = []\n",
        "    for class_label in os.listdir(folder):\n",
        "        class_path = os.path.join(folder, class_label)\n",
        "        if os.path.isdir(class_path):\n",
        "            for image_name in os.listdir(class_path):\n",
        "                image_path = os.path.join(class_path, image_name)\n",
        "                image = cv2.imread(image_path)\n",
        "                if image is not None:\n",
        "                    hist = extract_histogram(image)\n",
        "                    data.append(hist)\n",
        "                    labels.append(class_label)\n",
        "    return np.array(data), np.array(labels)\n",
        "\n",
        "# Folder gambar untuk training dan testing\n",
        "train_dir = '/content/drive/MyDrive/Machine Learning/images/training'\n",
        "test_dir = '/content/drive/MyDrive/Machine Learning/images/test'\n",
        "\n",
        "# Muat data training dan testing\n",
        "X_train, y_train = load_images_from_folder(train_dir)\n",
        "X_test, y_test = load_images_from_folder(test_dir)\n",
        "\n",
        "# Normalisasi data dengan StandardScaler\n",
        "scaler = StandardScaler()\n",
        "X_train = scaler.fit_transform(X_train)\n",
        "X_test = scaler.transform(X_test)\n",
        "\n",
        "# Inisialisasi model SVM\n",
        "model_svm = SVC(kernel='linear')\n",
        "\n",
        "# Latih model SVM\n",
        "model_svm.fit(X_train, y_train)\n",
        "\n",
        "# Prediksi pada data uji\n",
        "y_pred = model_svm.predict(X_test)\n",
        "\n",
        "# Evaluasi performa\n",
        "accuracy = accuracy_score(y_test, y_pred)\n",
        "report = classification_report(y_test, y_pred)\n",
        "\n",
        "print(f\"Accuracy: {accuracy * 100:.2f}%\")\n",
        "print(\"Classification Report:\")\n",
        "print(report)"
      ],
      "metadata": {
        "colab": {
          "base_uri": "https://localhost:8080/"
        },
        "id": "0ni4IBhFXiK2",
        "outputId": "c15bad80-7d00-4f14-ca78-a263880284f8"
      },
      "execution_count": 16,
      "outputs": [
        {
          "output_type": "stream",
          "name": "stdout",
          "text": [
            "Accuracy: 97.50%\n",
            "Classification Report:\n",
            "              precision    recall  f1-score   support\n",
            "\n",
            "         day       0.96      0.99      0.98        80\n",
            "       night       0.99      0.96      0.97        80\n",
            "\n",
            "    accuracy                           0.97       160\n",
            "   macro avg       0.98      0.98      0.97       160\n",
            "weighted avg       0.98      0.97      0.97       160\n",
            "\n"
          ]
        }
      ]
    }
  ]
}